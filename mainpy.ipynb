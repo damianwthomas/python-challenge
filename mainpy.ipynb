{
 "cells": [
  {
   "cell_type": "code",
   "execution_count": 317,
   "metadata": {},
   "outputs": [],
   "source": [
    "import os\n",
    "import csv"
   ]
  },
  {
   "cell_type": "code",
   "execution_count": 318,
   "metadata": {},
   "outputs": [],
   "source": [
    "csv_path = os.path.join('budget_data'+'.csv')\n",
    "numRows=0\n",
    "months=0\n",
    "pl=0\n",
    "tpl=0\n",
    "cpl=0\n",
    "lpl=0\n",
    "plc=[]\n",
    "mc=[]\n",
    "more =[\"\",0]\n",
    "less =[\"\",99999999999999999999999999]"
   ]
  },
  {
   "cell_type": "code",
   "execution_count": 319,
   "metadata": {},
   "outputs": [
    {
     "name": "stdout",
     "output_type": "stream",
     "text": [
      "\n",
      "Financial Analysis\n",
      "Total Months: 86\n",
      "Total: 38382578\n",
      "Average Change: 7803.476744186047\n",
      "Greatest Increase in Profit: Nov-2016 ($795914)  \n",
      "Greatest Decrease in Profit:  ($99999999999999999999999999)  \n",
      "\n"
     ]
    }
   ],
   "source": [
    "# Open the CSV\n",
    "with open(csv_path, newline=\"\") as csvfile:\n",
    "    csvreader = csv.reader(csvfile, delimiter=\",\") \n",
    "        \n",
    "# The total number of months included in the dataset\n",
    "\n",
    "    next(csvreader)\n",
    "\n",
    "    for row in csvreader:\n",
    "        months = months + 1\n",
    "        pl = pl + int(row[1])\n",
    "    \n",
    "        cpl = int(row[1]) - int(lpl)\n",
    "        lpl = int(row[1])\n",
    "        plc = plc + [cpl]\n",
    "        mc = mc + [row[0]]\n",
    "    \n",
    "        if cpl > int(more[1]):\n",
    "          more[0] = row[0]\n",
    "          more[1] = row[1]\n",
    "     \n",
    "        if cpl > int(less[1]):\n",
    "          less[0] = row[0]\n",
    "          less[1] = row[1]\n",
    "        \n",
    "average = sum(plc)/len(plc)\n",
    "output = (\n",
    "    f\"\\nFinancial Analysis\\n\"\n",
    "    f\"Total Months: {months}\\n\"\n",
    "    f\"Total: {pl}\\n\"\n",
    "    f\"Average Change: {average}\\n\"\n",
    "    f\"Greatest Increase in Profit: {more[0]} (${more[1]})  \\n\"\n",
    "    f\"Greatest Decrease in Profit: {less[0]} (${less[1]})  \\n\"\n",
    "        \n",
    ")\n",
    "print(output)"
   ]
  },
  {
   "cell_type": "code",
   "execution_count": null,
   "metadata": {},
   "outputs": [],
   "source": []
  },
  {
   "cell_type": "code",
   "execution_count": null,
   "metadata": {},
   "outputs": [],
   "source": []
  },
  {
   "cell_type": "code",
   "execution_count": null,
   "metadata": {},
   "outputs": [],
   "source": []
  }
 ],
 "metadata": {
  "kernelspec": {
   "display_name": "Python 3",
   "language": "python",
   "name": "python3"
  },
  "language_info": {
   "codemirror_mode": {
    "name": "ipython",
    "version": 3
   },
   "file_extension": ".py",
   "mimetype": "text/x-python",
   "name": "python",
   "nbconvert_exporter": "python",
   "pygments_lexer": "ipython3",
   "version": "3.7.1"
  }
 },
 "nbformat": 4,
 "nbformat_minor": 2
}
